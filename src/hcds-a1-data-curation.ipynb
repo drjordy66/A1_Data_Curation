{
 "cells": [
  {
   "cell_type": "markdown",
   "metadata": {},
   "source": [
    "# English Wikipedia page views, 2008 - 2017\n",
    "\n",
    "For this assignment, your job is to analyze traffic on English Wikipedia over time, and then document your process and the resulting dataset and visualization according to best practices for open research that were outlined for you in class."
   ]
  },
  {
   "cell_type": "markdown",
   "metadata": {},
   "source": [
    "### Example API request\n",
    "You can use this example API request as a starting point for building your API queries. Note that the [Legacy Pagecounts API](https://wikitech.wikimedia.org/wiki/Analytics/AQS/Legacy_Pagecounts) has slightly different schema than the [pageview API](https://wikitech.wikimedia.org/wiki/Analytics/AQS/Pageviews) shown here.\n",
    "\n",
    "This sample API request would get you all pageviews by web crawlers on the mobile website for English Wikipedia during the month of September, 2017."
   ]
  },
  {
   "cell_type": "markdown",
   "metadata": {},
   "source": [
    "### Import necessary libraries that will be used"
   ]
  },
  {
   "cell_type": "code",
   "execution_count": 1,
   "metadata": {
    "collapsed": true
   },
   "outputs": [],
   "source": [
    "import json\n",
    "import matplotlib.pyplot as plt\n",
    "import numpy as np\n",
    "import pandas as pd\n",
    "import requests\n",
    "\n",
    "from datetime import datetime\n",
    "\n",
    "%matplotlib inline"
   ]
  },
  {
   "cell_type": "markdown",
   "metadata": {},
   "source": [
    "## Step 1: Data acquisition"
   ]
  },
  {
   "cell_type": "code",
   "execution_count": 2,
   "metadata": {
    "collapsed": true
   },
   "outputs": [],
   "source": [
    "# since we will be performing api calls at least five times, we will functionalize it\n",
    "def data_acquisition(api_endpoint, access):\n",
    "\n",
    "    '''\n",
    "    call the wikimedia api and return a json format data set\n",
    "    :param api_endpoint: legacy (pagecounts)\n",
    "                         current (pageviews)\n",
    "    :param access: legacy (all-sites, desktop-site, mobile-site)\n",
    "                   current (desktop, mobile-app, mobile-web)\n",
    "    '''\n",
    "    \n",
    "    # define the parameters for the api call (params listed below are universal across all api calls)\n",
    "    params = {'project' : 'en.wikipedia.org',\n",
    "                'agent' : 'user',\n",
    "                'granularity' : 'monthly',\n",
    "                'start' : '2008070100',\n",
    "                'end' : '2017100100'\n",
    "                }\n",
    "\n",
    "    # check api_endpoint variable entered is valid for pagecounts\n",
    "    if api_endpoint == 'pagecounts':\n",
    "        endpoint = 'https://wikimedia.org/api/rest_v1/metrics/legacy/pagecounts/aggregate/{project}/{access-site}/{granularity}/{start}/{end}'\n",
    "        params['access-site'] = access\n",
    "        \n",
    "        # check access variable entered is valid for pagecounts, print error otherwise\n",
    "        if access != 'all-sites' and access != 'desktop-site' and access != 'mobile-site':\n",
    "            print('error: invalid access (all-sites, desktop-site, mobile-site)')\n",
    "        else:\n",
    "            pass\n",
    "    \n",
    "    # check api_endpoint variable entered is valid for pageviews\n",
    "    elif api_endpoint == 'pageviews':\n",
    "        endpoint = 'https://wikimedia.org/api/rest_v1/metrics/pageviews/aggregate/{project}/{access}/{agent}/{granularity}/{start}/{end}'\n",
    "        params['access'] = access\n",
    "        \n",
    "        # check access variable entered is valid for pageviews, print error otherwise\n",
    "        if access != 'desktop' and access != 'mobile-app' and access != 'mobile-web':\n",
    "            print('error: invalid access (desktop, mobile-app, mobile-web)')\n",
    "        else:\n",
    "            pass\n",
    "    \n",
    "    # print error message if invalid api_endpoint variable\n",
    "    else:\n",
    "        print('error: invalid api_endpoint (pagecounts, pageviews)')\n",
    "    \n",
    "#     headers={'User-Agent' : 'https://github.com/drjordy66', 'From' : 'drjordan@uw.edu'}\n",
    "    \n",
    "    api_call = requests.get(endpoint.format(**params))\n",
    "    \n",
    "    return api_call.json()\n"
   ]
  },
  {
   "cell_type": "markdown",
   "metadata": {},
   "source": [
    "### Run the above function to call the API"
   ]
  },
  {
   "cell_type": "code",
   "execution_count": 3,
   "metadata": {
    "collapsed": true
   },
   "outputs": [],
   "source": [
    "response_pageview_desktop = data_acquisition('pageviews', 'desktop')\n",
    "response_pageview_mobileweb = data_acquisition('pageviews', 'mobile-web')\n",
    "response_pageview_mobileapp = data_acquisition('pageviews', 'mobile-app')\n",
    "response_pagecount_all = data_acquisition('pagecounts', 'all-sites') # While this may be the simpler method, it is not in the instructions\n",
    "response_pagecount_desktop = data_acquisition('pagecounts', 'desktop-site')\n",
    "response_pagecount_mobile = data_acquisition('pagecounts', 'mobile-site')"
   ]
  },
  {
   "cell_type": "markdown",
   "metadata": {},
   "source": [
    "### Export the API raw data files"
   ]
  },
  {
   "cell_type": "code",
   "execution_count": 4,
   "metadata": {
    "collapsed": true
   },
   "outputs": [],
   "source": [
    "json.dump(response_pageview_desktop, open('pageviews_desktop_' + response_pageview_desktop['items'][0]['timestamp'][:-4] + '-' + response_pageview_desktop['items'][-1]['timestamp'][:-4] + '.json', 'w'), indent=4)\n",
    "json.dump(response_pageview_mobileweb, open('pageviews_mobile-web_' + response_pageview_mobileweb['items'][0]['timestamp'][:-4] + '-' + response_pageview_mobileweb['items'][-1]['timestamp'][:-4] + '.json', 'w'), indent=4)\n",
    "json.dump(response_pageview_mobileapp, open('pageviews_mobile-app_' + response_pageview_mobileapp['items'][0]['timestamp'][:-4] + '-' + response_pageview_mobileapp['items'][-1]['timestamp'][:-4] + '.json', 'w'), indent=4)\n",
    "# json.dump(response_pagecount_all, open('pagecounts_all-sites_' + response_pagecount_all['items'][0]['timestamp'][:-4] + '-' + response_pagecount_all['items'][-1]['timestamp'][:-4] + '.json', 'w'), indent=4)\n",
    "json.dump(response_pagecount_desktop, open('pagecounts_desktop-site_' + response_pagecount_desktop['items'][0]['timestamp'][:-4] + '-' + response_pagecount_desktop['items'][-1]['timestamp'][:-4] + '.json', 'w'), indent=4)\n",
    "json.dump(response_pagecount_mobile, open('pagecounts_mobile-site_' + response_pagecount_mobile['items'][0]['timestamp'][:-4] + '-' + response_pagecount_mobile['items'][-1]['timestamp'][:-4] + '.json', 'w'), indent=4)"
   ]
  },
  {
   "cell_type": "markdown",
   "metadata": {},
   "source": [
    "## Step 2: Data processing"
   ]
  },
  {
   "cell_type": "code",
   "execution_count": 5,
   "metadata": {},
   "outputs": [],
   "source": [
    "def get_views(api_response):\n",
    "    \n",
    "    '''\n",
    "    strip all views from an api response\n",
    "    '''\n",
    "    \n",
    "    temp_list = []\n",
    "    for i in api_response['items']:\n",
    "            temp_list.append([i['timestamp'], i['views']])\n",
    "    \n",
    "    return np.array(temp_list)\n",
    "\n",
    "def get_count(api_response):\n",
    "    \n",
    "    '''\n",
    "    strip all views from an api response\n",
    "    '''\n",
    "    \n",
    "    temp_list = []\n",
    "    for i in api_response['items']:\n",
    "            temp_list.append([i['timestamp'], i['count']])\n",
    "    \n",
    "    return np.array(temp_list)\n",
    "\n",
    "def lookup_val(api_views, date):\n",
    "    \n",
    "    '''\n",
    "    find row index against all dates and create views respective column\n",
    "    '''\n",
    "    \n",
    "    if i in list(api_views[:,0]):\n",
    "        row_idx = list(api_views[:,0]).index(date)\n",
    "        row_val = int(api_views[:,1][row_idx])\n",
    "    else:\n",
    "        row_val = 0\n",
    "        \n",
    "    return row_val\n"
   ]
  },
  {
   "cell_type": "markdown",
   "metadata": {},
   "source": [
    "### Run the above functions to get all of the views/counts for both the legacy and current API"
   ]
  },
  {
   "cell_type": "code",
   "execution_count": 6,
   "metadata": {},
   "outputs": [],
   "source": [
    "# strip all dates and views/count from api responses\n",
    "pageview_desktop_views = get_views(response_pageview_desktop)\n",
    "pageview_mobileweb_views = get_views(response_pageview_mobileweb)\n",
    "pageview_mobileapp_views = get_views(response_pageview_mobileapp)\n",
    "pagecount_desktop_views = get_count(response_pagecount_desktop)\n",
    "pagecount_mobile_views = get_count(response_pagecount_mobile)\n",
    "\n",
    "# combine all data into one array\n",
    "all_dates_views = np.concatenate((pageview_desktop_views,\n",
    "                                  pageview_mobileweb_views,\n",
    "                                  pageview_mobileapp_views,\n",
    "                                  pagecount_desktop_views,\n",
    "                                  pagecount_mobile_views))\n",
    "\n",
    "# strip only dates, remove duplicates, sort\n",
    "all_dates = sorted(list(set(all_dates_views[:, 0])))\n",
    "\n",
    "# parse into years and months\n",
    "year_col = [all_dates[i][:-6] for i in range(len(all_dates))]\n",
    "month_col = [all_dates[i][4:6] for i in range(len(all_dates))]\n",
    "\n",
    "# initialize lists for columns of csv file\n",
    "pageview_desktop_views_col = []\n",
    "pageview_mobileweb_views_col = []\n",
    "pageview_mobileapp_views_col = []\n",
    "pagecount_desktop_views_col = []\n",
    "pagecount_mobile_views_col = []\n",
    "\n",
    "# loop through all of the dates and lookup respective values from each api response\n",
    "for i in all_dates:\n",
    "    pageview_desktop_views_col.append(lookup_val(pageview_desktop_views, i))\n",
    "    pageview_mobileweb_views_col.append(lookup_val(pageview_mobileweb_views, i))\n",
    "    pageview_mobileapp_views_col.append(lookup_val(pageview_mobileapp_views, i))\n",
    "    pagecount_desktop_views_col.append(lookup_val(pagecount_desktop_views, i))\n",
    "    pagecount_mobile_views_col.append(lookup_val(pagecount_mobile_views, i))\n",
    "\n",
    "# aggregate the mobile views from pageviews and the \"all views\" from pageviews and pagecounts\n",
    "pageview_mobile_views_col = [sum(i) for i in zip(pageview_mobileweb_views_col, pageview_mobileapp_views_col)]\n",
    "pageview_all_views_col = [sum(i) for i in zip(pageview_desktop_views_col, pageview_mobile_views_col)]\n",
    "pagecount_all_views_col = [sum(i) for i in zip(pagecount_desktop_views_col, pagecount_mobile_views_col)]\n"
   ]
  },
  {
   "cell_type": "markdown",
   "metadata": {},
   "source": [
    "### Export data in single csv"
   ]
  },
  {
   "cell_type": "code",
   "execution_count": 7,
   "metadata": {},
   "outputs": [],
   "source": [
    "# assign column data to a pandas dataframe\n",
    "df = pd.DataFrame({'year': year_col,\n",
    "                   'month': month_col,\n",
    "                   'pagecount_all_views': pagecount_all_views_col,\n",
    "                   'pagecount_desktop_views': pagecount_desktop_views_col,\n",
    "                   'pagecount_mobile_views': pagecount_mobile_views_col,\n",
    "                   'pageview_all_views': pageview_all_views_col,\n",
    "                   'pageview_desktop_views': pageview_desktop_views_col,\n",
    "                   'pageview_mobile_views': pageview_mobile_views_col})\n",
    "\n",
    "# organize in correct column order\n",
    "df = df[['year',\n",
    "         'month',\n",
    "         'pagecount_all_views',\n",
    "         'pagecount_desktop_views',\n",
    "         'pagecount_mobile_views',\n",
    "         'pageview_all_views',\n",
    "         'pageview_desktop_views',\n",
    "         'pageview_mobile_views']]\n",
    "\n",
    "# write the column data to csv\n",
    "df.to_csv('en-wikipedia_traffic_200801-201709.csv', index=False)\n"
   ]
  },
  {
   "cell_type": "markdown",
   "metadata": {},
   "source": [
    "## Step 3: Analysis"
   ]
  },
  {
   "cell_type": "code",
   "execution_count": 8,
   "metadata": {},
   "outputs": [
    {
     "data": {
      "text/plain": [
       "<matplotlib.legend.Legend at 0x21d111a6a90>"
      ]
     },
     "execution_count": 8,
     "metadata": {},
     "output_type": "execute_result"
    },
    {
     "data": {
      "image/png": "[encoded data removed]",
      "text/plain": [
       "<matplotlib.figure.Figure at 0x21d10d6fb70>"
      ]
     },
     "metadata": {},
     "output_type": "display_data"
    }
   ],
   "source": [
    "# convert dates to a datetime format for plotting\n",
    "dates = np.array([datetime.strptime(list(df['year'])[i] + list(df['month'])[i], '%Y%m') for i in range(len(df))])\n",
    "\n",
    "# plot the points, filtering on non-zero values in the column data\n",
    "plt.plot(dates[np.array(df['pageview_desktop_views']) > 0],\n",
    "         np.array(df['pageview_desktop_views'])[np.array(df['pageview_desktop_views']) > 0], 'g')\n",
    "plt.plot(dates[np.array(df['pageview_mobile_views']) > 0],\n",
    "         np.array(df['pageview_mobile_views'])[np.array(df['pageview_mobile_views']) > 0], 'b')\n",
    "plt.plot(dates[np.array(df['pageview_all_views']) > 0],\n",
    "         np.array(df['pageview_all_views'])[np.array(df['pageview_all_views']) > 0], 'k')\n",
    "plt.plot(dates[np.array(df['pagecount_desktop_views']) > 0][:-1],\n",
    "         np.array(df['pagecount_desktop_views'])[np.array(df['pagecount_desktop_views']) > 0][:-1], 'g--')\n",
    "plt.plot(dates[np.array(df['pagecount_mobile_views']) > 0][:-1],\n",
    "         np.array(df['pagecount_mobile_views'])[np.array(df['pagecount_mobile_views']) > 0][:-1], 'b--')\n",
    "plt.plot(dates[np.array(df['pagecount_all_views']) > 0][:-1],\n",
    "         np.array(df['pagecount_all_views'])[np.array(df['pagecount_all_views']) > 0][:-1], 'k--')\n",
    "\n",
    "# add gridlines and scale (to match assignment), title, legend\n",
    "plt.grid(True)\n",
    "plt.ylim(0, 12e9)\n",
    "plt.yticks([0, 2e9, 4e9, 6e9, 8e9, 10e9, 12e9], [0, 2000, 4000, 6000, 8000, 10000, 12000])\n",
    "plt.title('Page Views on English Wikipedia (x 1,000,000)')\n",
    "plt.legend(['main site', 'mobile site', 'total'])\n"
   ]
  },
  {
   "cell_type": "markdown",
   "metadata": {},
   "source": [
    "# old code..."
   ]
  },
  {
   "cell_type": "code",
   "execution_count": null,
   "metadata": {
    "collapsed": true
   },
   "outputs": [],
   "source": [
    "# endpoint = 'https://wikimedia.org/api/rest_v1/metrics/pageviews/aggregate/{project}/{access}/{agent}/{granularity}/{start}/{end}'\n",
    "\n",
    "# headers={'User-Agent' : 'https://github.com/drjordy66', 'From' : 'drjordan@uw.edu'}\n",
    "\n",
    "# params = {'project' : 'en.wikipedia.org',\n",
    "#             'access' : 'desktop',\n",
    "#             'agent' : 'user',\n",
    "#             'granularity' : 'monthly',\n",
    "#             'start' : '2008070100',\n",
    "#             'end' : '2017100100'\n",
    "#             }\n",
    "# api_call = requests.get(endpoint.format(**params))\n",
    "# response_pageview_desktop = api_call.json()\n",
    "\n",
    "# params['access'] = 'mobile-web'\n",
    "# api_call = requests.get(endpoint.format(**params))\n",
    "# response_pageview_mobileweb = api_call.json()\n",
    "\n",
    "# params['access'] = 'mobile-app'\n",
    "# api_call = requests.get(endpoint.format(**params))\n",
    "# response_pageview_mobileapp = api_call.json()\n",
    "\n",
    "# del params['access']\n",
    "# endpoint = 'https://wikimedia.org/api/rest_v1/metrics/legacy/pagecounts/aggregate/{project}/{access-site}/{granularity}/{start}/{end}'\n",
    "# params['access-site'] = 'all-sites'\n",
    "# api_call = requests.get(endpoint.format(**params))\n",
    "# response_pagecount_all = api_call.json()\n",
    "\n",
    "# params['access-site'] = 'desktop-site'\n",
    "# api_call = requests.get(endpoint.format(**params))\n",
    "# response_pagecount_desktop = api_call.json()\n",
    "\n",
    "# params['access-site'] = 'mobile-site'\n",
    "# api_call = requests.get(endpoint.format(**params))\n",
    "# response_pagecount_mobile = api_call.json()\n"
   ]
  },
  {
   "cell_type": "code",
   "execution_count": null,
   "metadata": {
    "collapsed": true
   },
   "outputs": [],
   "source": [
    "# pageview_desktop_dates = []\n",
    "# pageview_desktop_views = []\n",
    "# for i in response_pageview_desktop['items']:\n",
    "#     pageview_desktop_dates.append(datetime.strptime(i['timestamp'][:-4], '%Y%m'))\n",
    "#     pageview_desktop_views.append(i['views'])\n",
    "\n",
    "# pageview_mobileweb_dates = []\n",
    "# pageview_mobileweb_views = []\n",
    "# for i in response_pageview_mobileweb['items']:\n",
    "#     pageview_mobileweb_dates.append(datetime.strptime(i['timestamp'][:-4], '%Y%m'))\n",
    "#     pageview_mobileweb_views.append(i['views'])\n",
    "\n",
    "# pageview_mobileapp_dates = []\n",
    "# pageview_mobileapp_views = []\n",
    "# for i in response_pageview_mobileapp['items']:\n",
    "#     pageview_mobileapp_dates.append(datetime.strptime(i['timestamp'][:-4], '%Y%m'))\n",
    "#     pageview_mobileapp_views.append(i['views'])\n",
    "\n",
    "# pageview_mobile_dates = pageview_mobileweb_dates\n",
    "# pageview_mobile_views = [pageview_mobileweb_views[i] + pageview_mobileapp_views[i] for i in range(len(pageview_mobileweb_views))]\n",
    "\n",
    "# pageview_all_dates = pageview_desktop_dates\n",
    "# pageview_all_views = [pageview_desktop_views[i] + pageview_mobile_views[i] for i in range(len(pageview_desktop_views))]\n",
    "\n",
    "# pagecount_all_dates = []\n",
    "# pagecount_all_views = []\n",
    "# for i in response_pagecount_all['items']:\n",
    "#     pagecount_all_dates.append(datetime.strptime(i['timestamp'][:-4], '%Y%m'))\n",
    "#     pagecount_all_views.append(i['count'])\n",
    "    \n",
    "# pagecount_desktop_dates = []\n",
    "# pagecount_desktop_views = []\n",
    "# for i in response_pagecount_desktop['items']:\n",
    "#     pagecount_desktop_dates.append(datetime.strptime(i['timestamp'][:-4], '%Y%m'))\n",
    "#     pagecount_desktop_views.append(i['count'])\n",
    "\n",
    "# pagecount_mobile_dates = []\n",
    "# pagecount_mobile_views = []\n",
    "# for i in response_pagecount_mobile['items']:\n",
    "#     pagecount_mobile_dates.append(datetime.strptime(i['timestamp'][:-4], '%Y%m'))\n",
    "#     pagecount_mobile_views.append(i['count'])\n",
    "\n",
    "# pagecount_all_dates2 = pagecount_desktop_dates\n",
    "# pagecount_all_views2 = []\n",
    "# for i in range(len(pagecount_desktop_views)):\n",
    "#     desktopmobile = 'False'\n",
    "#     for j in range(len(pagecount_mobile_views)):\n",
    "#         if pagecount_desktop_dates[i] == pagecount_mobile_dates[j]:\n",
    "#             pagecount_all_views2.append(pagecount_desktop_views[i] + pagecount_mobile_views[j])\n",
    "#             desktopmobile = 'True'\n",
    "#             break\n",
    "#         else:\n",
    "#             pass\n",
    "#     if desktopmobile == 'False':\n",
    "#         pagecount_all_views2.append(pagecount_desktop_views[i])\n",
    "#     else:\n",
    "#         pass\n"
   ]
  },
  {
   "cell_type": "code",
   "execution_count": null,
   "metadata": {
    "collapsed": true
   },
   "outputs": [],
   "source": [
    "# plt.plot(pageview_desktop_dates, pageview_desktop_views, 'g')\n",
    "# plt.plot(pageview_mobile_dates, pageview_mobile_views, 'b')\n",
    "# plt.plot(pageview_all_dates, pageview_all_views, 'k')\n",
    "# plt.plot(pagecount_desktop_dates[:-1], pagecount_desktop_views[:-1], 'g--')\n",
    "# plt.plot(pagecount_mobile_dates[:-1], pagecount_mobile_views[:-1], 'b--')\n",
    "# plt.plot(pagecount_all_dates[:-1], pagecount_all_views[:-1], 'k--')\n",
    "# plt.grid(True)\n",
    "# plt.ylim(0, 12e9)\n",
    "# plt.yticks([0, 2e9, 4e9, 6e9, 8e9, 10e9, 12e9], [0, 2000, 4000, 6000, 8000, 10000, 12000])\n",
    "# plt.title('Page Views on English Wikipedia (x 1,000,000)')\n",
    "# plt.legend(['main site', 'mobile site', 'total'])\n"
   ]
  }
 ],
 "metadata": {
  "kernelspec": {
   "display_name": "Python 3",
   "language": "python",
   "name": "python3"
  },
  "language_info": {
   "codemirror_mode": {
    "name": "ipython",
    "version": 3
   },
   "file_extension": ".py",
   "mimetype": "text/x-python",
   "name": "python",
   "nbconvert_exporter": "python",
   "pygments_lexer": "ipython3",
   "version": "3.5.2"
  }
 },
 "nbformat": 4,
 "nbformat_minor": 1
}

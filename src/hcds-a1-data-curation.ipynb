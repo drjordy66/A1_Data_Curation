{
 "cells": [
  {
   "cell_type": "markdown",
   "metadata": {},
   "source": [
    "# A1: Data curation\n",
    "## Dane Jordan"
   ]
  },
  {
   "cell_type": "markdown",
   "metadata": {},
   "source": [
    "Import necessary libraries that will be used"
   ]
  },
  {
   "cell_type": "code",
   "execution_count": 1,
   "metadata": {
    "collapsed": true
   },
   "outputs": [],
   "source": [
    "import json\n",
    "import matplotlib.pyplot as plt\n",
    "import numpy as np\n",
    "import pandas as pd\n",
    "import requests\n",
    "\n",
    "from datetime import datetime\n",
    "\n",
    "%matplotlib inline"
   ]
  },
  {
   "cell_type": "markdown",
   "metadata": {},
   "source": [
    "## Step 1: Data acquisition\n",
    "\n",
    "Below is a function that takes two inputs, the API endpoint (either 'pagecounts' or 'pageviews') and the access parameter. For pagecounts the access parameter can be 'all-sites', 'desktop-site', or 'mobile-site'. For pageviews the access parameter can be 'desktop', 'mobile-app', or 'mobile-web'. The function fills in all other parameters for an API call (thanks Jonathan and Oliver!), and returns the API response."
   ]
  },
  {
   "cell_type": "code",
   "execution_count": 2,
   "metadata": {
    "collapsed": true
   },
   "outputs": [],
   "source": [
    "# since we will be performing api calls at least five times, we will functionalize it\n",
    "def data_acquisition(api_endpoint, access):\n",
    "\n",
    "    '''\n",
    "    call the wikimedia api and return a json format data set\n",
    "    :param api_endpoint: legacy (pagecounts)\n",
    "                         current (pageviews)\n",
    "    :param access: legacy (all-sites, desktop-site, mobile-site)\n",
    "                   current (desktop, mobile-app, mobile-web)\n",
    "    '''\n",
    "    \n",
    "    # define the parameters for the api call (params listed below are universal across all api calls)\n",
    "    params = {'project' : 'en.wikipedia.org',\n",
    "                'agent' : 'user',\n",
    "                'granularity' : 'monthly',\n",
    "                'start' : '2008010100',\n",
    "                'end' : '2017100100'\n",
    "                }\n",
    "\n",
    "    # check api_endpoint variable entered is valid for pagecounts\n",
    "    if api_endpoint == 'pagecounts':\n",
    "        endpoint = 'https://wikimedia.org/api/rest_v1/metrics/legacy/pagecounts/aggregate/{project}/{access-site}/{granularity}/{start}/{end}'\n",
    "        params['access-site'] = access\n",
    "        \n",
    "        # check access variable entered is valid for pagecounts, print error otherwise\n",
    "        if access != 'all-sites' and access != 'desktop-site' and access != 'mobile-site':\n",
    "            print('error: invalid access (all-sites, desktop-site, mobile-site)')\n",
    "        else:\n",
    "            pass\n",
    "    \n",
    "    # check api_endpoint variable entered is valid for pageviews\n",
    "    elif api_endpoint == 'pageviews':\n",
    "        endpoint = 'https://wikimedia.org/api/rest_v1/metrics/pageviews/aggregate/{project}/{access}/{agent}/{granularity}/{start}/{end}'\n",
    "        params['access'] = access\n",
    "        \n",
    "        # check access variable entered is valid for pageviews, print error otherwise\n",
    "        if access != 'desktop' and access != 'mobile-app' and access != 'mobile-web':\n",
    "            print('error: invalid access (desktop, mobile-app, mobile-web)')\n",
    "        else:\n",
    "            pass\n",
    "    \n",
    "    # print error message if invalid api_endpoint variable\n",
    "    else:\n",
    "        print('error: invalid api_endpoint (pagecounts, pageviews)')\n",
    "    \n",
    "#     headers={'User-Agent' : 'https://github.com/drjordy66', 'From' : 'drjordan@uw.edu'}\n",
    "    \n",
    "    api_call = requests.get(endpoint.format(**params))\n",
    "    \n",
    "    return api_call.json()\n"
   ]
  },
  {
   "cell_type": "markdown",
   "metadata": {},
   "source": [
    "Run the above function to call the API and assign the responses to variables"
   ]
  },
  {
   "cell_type": "code",
   "execution_count": 3,
   "metadata": {
    "collapsed": true
   },
   "outputs": [],
   "source": [
    "response_pageview_desktop = data_acquisition('pageviews', 'desktop')\n",
    "response_pageview_mobileweb = data_acquisition('pageviews', 'mobile-web')\n",
    "response_pageview_mobileapp = data_acquisition('pageviews', 'mobile-app')\n",
    "response_pagecount_desktop = data_acquisition('pagecounts', 'desktop-site')\n",
    "response_pagecount_mobile = data_acquisition('pagecounts', 'mobile-site')"
   ]
  },
  {
   "cell_type": "markdown",
   "metadata": {},
   "source": [
    "Export the API raw data files. This section has been commented out in order to not continuously overwrite the raw data files. The raw data files have already been created and will be imported in the next step."
   ]
  },
  {
   "cell_type": "code",
   "execution_count": 4,
   "metadata": {
    "collapsed": true
   },
   "outputs": [],
   "source": [
    "# json.dump(response_pageview_desktop, open('../data_raw/pageviews_desktop_' + response_pageview_desktop['items'][0]['timestamp'][:-4] + '-' + response_pageview_desktop['items'][-1]['timestamp'][:-4] + '.json', 'w'), indent=4)\n",
    "# json.dump(response_pageview_mobileweb, open('../data_raw/pageviews_mobile-web_' + response_pageview_mobileweb['items'][0]['timestamp'][:-4] + '-' + response_pageview_mobileweb['items'][-1]['timestamp'][:-4] + '.json', 'w'), indent=4)\n",
    "# json.dump(response_pageview_mobileapp, open('../data_raw/pageviews_mobile-app_' + response_pageview_mobileapp['items'][0]['timestamp'][:-4] + '-' + response_pageview_mobileapp['items'][-1]['timestamp'][:-4] + '.json', 'w'), indent=4)\n",
    "# json.dump(response_pagecount_desktop, open('../data_raw/pagecounts_desktop-site_' + response_pagecount_desktop['items'][0]['timestamp'][:-4] + '-' + response_pagecount_desktop['items'][-1]['timestamp'][:-4] + '.json', 'w'), indent=4)\n",
    "# json.dump(response_pagecount_mobile, open('../data_raw/pagecounts_mobile-site_' + response_pagecount_mobile['items'][0]['timestamp'][:-4] + '-' + response_pagecount_mobile['items'][-1]['timestamp'][:-4] + '.json', 'w'), indent=4)"
   ]
  },
  {
   "cell_type": "markdown",
   "metadata": {},
   "source": [
    "## Step 2: Data processing"
   ]
  },
  {
   "cell_type": "markdown",
   "metadata": {},
   "source": [
    "Import the raw .json files to process and create a new file for analysis."
   ]
  },
  {
   "cell_type": "code",
   "execution_count": 5,
   "metadata": {
    "collapsed": true
   },
   "outputs": [],
   "source": [
    "response_pagecount_desktop = json.load(open('../data_raw/pagecounts_desktop-site_200801-201608.json'))\n",
    "response_pagecount_mobile = json.load(open('../data_raw/pagecounts_mobile-site_201410-201608.json'))\n",
    "response_pageview_desktop = json.load(open('../data_raw/pageviews_desktop_201507-201709.json'))\n",
    "response_pageview_mobileapp = json.load(open('../data_raw/pageviews_mobile-app_201507-201709.json'))\n",
    "response_pageview_mobileweb = json.load(open('../data_raw/pageviews_mobile-web_201507-201709.json'))"
   ]
  },
  {
   "cell_type": "markdown",
   "metadata": {},
   "source": [
    "### Functions for processing\n",
    "\n",
    "`get_views` and `get_counts` take the raw .json files as inputs, strip the timestamps and views/counts, and return arrays with two columns (timestamp, views/counts) and a row with each month's worth of data.\n",
    "\n",
    "`lookup_val` takes the arrays created from the prior functions as one input and a date as a second input. It uses the date to find the index within the array from column 1 (timestamp) and returns the value from that same index in column 2 (counts/views). If the date is not within the array, then a value of 0 is assigned."
   ]
  },
  {
   "cell_type": "code",
   "execution_count": 6,
   "metadata": {
    "collapsed": true
   },
   "outputs": [],
   "source": [
    "def get_views(api_response):\n",
    "    \n",
    "    '''\n",
    "    strip all views from an api response\n",
    "    '''\n",
    "    \n",
    "    temp_list = []\n",
    "    for i in api_response['items']:\n",
    "            temp_list.append([i['timestamp'], i['views']])\n",
    "    \n",
    "    return np.array(temp_list)\n",
    "\n",
    "def get_count(api_response):\n",
    "    \n",
    "    '''\n",
    "    strip all views from an api response\n",
    "    '''\n",
    "    \n",
    "    temp_list = []\n",
    "    for i in api_response['items']:\n",
    "            temp_list.append([i['timestamp'], i['count']])\n",
    "    \n",
    "    return np.array(temp_list)\n",
    "\n",
    "def lookup_val(api_views, date):\n",
    "    \n",
    "    '''\n",
    "    find row index against all dates and create views respective column\n",
    "    '''\n",
    "    \n",
    "    if i in list(api_views[:,0]):\n",
    "        row_idx = list(api_views[:,0]).index(date)\n",
    "        row_val = int(api_views[:,1][row_idx])\n",
    "    else:\n",
    "        row_val = 0\n",
    "        \n",
    "    return row_val\n"
   ]
  },
  {
   "cell_type": "markdown",
   "metadata": {},
   "source": [
    "Run the above functions to get all of the views/counts for both the legacy and current API"
   ]
  },
  {
   "cell_type": "code",
   "execution_count": 7,
   "metadata": {
    "collapsed": true
   },
   "outputs": [],
   "source": [
    "# strip all dates and views/count from api responses\n",
    "pageview_desktop_views = get_views(response_pageview_desktop)\n",
    "pageview_mobileweb_views = get_views(response_pageview_mobileweb)\n",
    "pageview_mobileapp_views = get_views(response_pageview_mobileapp)\n",
    "pagecount_desktop_views = get_count(response_pagecount_desktop)\n",
    "pagecount_mobile_views = get_count(response_pagecount_mobile)\n"
   ]
  },
  {
   "cell_type": "markdown",
   "metadata": {},
   "source": [
    "### Processing\n",
    "\n",
    "First, all of the formatted arrays from the API responses are concatenated and the first column (timestamp) is taken as a `set()` to remove any duplicate timestamps. From here we can easily parse the timestamps into a list of just the years and a list of just the months. This gives us our first two columns of our cleaned data, 'year' and 'month'."
   ]
  },
  {
   "cell_type": "code",
   "execution_count": 8,
   "metadata": {
    "collapsed": true
   },
   "outputs": [],
   "source": [
    "# combine all data into one array\n",
    "all_dates_views = np.concatenate((pageview_desktop_views,\n",
    "                                  pageview_mobileweb_views,\n",
    "                                  pageview_mobileapp_views,\n",
    "                                  pagecount_desktop_views,\n",
    "                                  pagecount_mobile_views))\n",
    "\n",
    "# strip only dates, remove duplicates, sort\n",
    "all_dates = sorted(list(set(all_dates_views[:, 0])))\n",
    "\n",
    "# parse into years and months\n",
    "year_col = [all_dates[i][:-6] for i in range(len(all_dates))]\n",
    "month_col = [all_dates[i][4:6] for i in range(len(all_dates))]\n"
   ]
  },
  {
   "cell_type": "markdown",
   "metadata": {},
   "source": [
    "Second, we initialize five (one for each API response) lists where we will obtain just the counts/views from the two column arrays. We will then loop through all of the dates (no duplicates) that we found from the previous step and use the `lookup_val` function to find the corresponding counts/views for each API response and append these to lists we initialized."
   ]
  },
  {
   "cell_type": "code",
   "execution_count": 9,
   "metadata": {
    "collapsed": true
   },
   "outputs": [],
   "source": [
    "# initialize lists for columns of csv file\n",
    "pageview_desktop_views_col = []\n",
    "pageview_mobileweb_views_col = []\n",
    "pageview_mobileapp_views_col = []\n",
    "pagecount_desktop_views_col = []\n",
    "pagecount_mobile_views_col = []\n",
    "\n",
    "# loop through all of the dates and lookup respective values from each api response\n",
    "for i in all_dates:\n",
    "    pageview_desktop_views_col.append(lookup_val(pageview_desktop_views, i))\n",
    "    pageview_mobileweb_views_col.append(lookup_val(pageview_mobileweb_views, i))\n",
    "    pageview_mobileapp_views_col.append(lookup_val(pageview_mobileapp_views, i))\n",
    "    pagecount_desktop_views_col.append(lookup_val(pagecount_desktop_views, i))\n",
    "    pagecount_mobile_views_col.append(lookup_val(pagecount_mobile_views, i))\n"
   ]
  },
  {
   "cell_type": "markdown",
   "metadata": {},
   "source": [
    "Third, we need to aggregate the two mobile sets of data from pageviews to get the total mobile data. For both pagecounts and pageviews we aggregate the desktop counts/views and mobile counts/views to get the total views for each."
   ]
  },
  {
   "cell_type": "code",
   "execution_count": 10,
   "metadata": {
    "collapsed": true
   },
   "outputs": [],
   "source": [
    "# aggregate the mobile views from pageviews and the \"all views\" from pageviews and pagecounts\n",
    "pageview_mobile_views_col = [sum(i) for i in zip(pageview_mobileweb_views_col, pageview_mobileapp_views_col)]\n",
    "pageview_all_views_col = [sum(i) for i in zip(pageview_desktop_views_col, pageview_mobile_views_col)]\n",
    "pagecount_all_views_col = [sum(i) for i in zip(pagecount_desktop_views_col, pagecount_mobile_views_col)]\n"
   ]
  },
  {
   "cell_type": "markdown",
   "metadata": {},
   "source": [
    "Convert to pandas DataFrame for easy export."
   ]
  },
  {
   "cell_type": "code",
   "execution_count": 11,
   "metadata": {
    "collapsed": true
   },
   "outputs": [],
   "source": [
    "# assign column data to a pandas dataframe\n",
    "df = pd.DataFrame({'year': year_col,\n",
    "                   'month': month_col,\n",
    "                   'pagecount_all_views': pagecount_all_views_col,\n",
    "                   'pagecount_desktop_views': pagecount_desktop_views_col,\n",
    "                   'pagecount_mobile_views': pagecount_mobile_views_col,\n",
    "                   'pageview_all_views': pageview_all_views_col,\n",
    "                   'pageview_desktop_views': pageview_desktop_views_col,\n",
    "                   'pageview_mobile_views': pageview_mobile_views_col})\n",
    "\n",
    "# organize in correct column order\n",
    "df = df[['year',\n",
    "         'month',\n",
    "         'pagecount_all_views',\n",
    "         'pagecount_desktop_views',\n",
    "         'pagecount_mobile_views',\n",
    "         'pageview_all_views',\n",
    "         'pageview_desktop_views',\n",
    "         'pageview_mobile_views']]\n"
   ]
  },
  {
   "cell_type": "markdown",
   "metadata": {},
   "source": [
    "Export data in single csv. This section has been commented out in order to not continuously overwrite the cleaned data file. The cleaned data file has already been created and will be imported in the next step."
   ]
  },
  {
   "cell_type": "code",
   "execution_count": 12,
   "metadata": {
    "collapsed": true
   },
   "outputs": [],
   "source": [
    "# write the column data to csv\n",
    "# df.to_csv('../data_clean/en-wikipedia_traffic_200801-201709.csv', index=False)\n"
   ]
  },
  {
   "cell_type": "markdown",
   "metadata": {},
   "source": [
    "## Step 3: Analysis"
   ]
  },
  {
   "cell_type": "markdown",
   "metadata": {},
   "source": [
    "Import the cleaned data file to use for analysis."
   ]
  },
  {
   "cell_type": "code",
   "execution_count": 13,
   "metadata": {
    "collapsed": true
   },
   "outputs": [],
   "source": [
    "df = pd.read_csv('../data_clean/en-wikipedia_traffic_200801-201709.csv',\n",
    "                 dtype={'year': str, 'month': str})"
   ]
  },
  {
   "cell_type": "markdown",
   "metadata": {},
   "source": [
    "### Plot the data\n",
    "\n",
    "The dates from the csv are converted to a datetime format in order to be plotted neatly. The points from the data are plotted, filtering out non-zero values in y-axis data.\n",
    "\n",
    "The figure is then saved as a .png file."
   ]
  },
  {
   "cell_type": "code",
   "execution_count": 14,
   "metadata": {},
   "outputs": [
    {
     "data": {
      "image/png": "[encoded data removed]",
      "text/plain": [
       "<matplotlib.figure.Figure at 0x247396a4048>"
      ]
     },
     "metadata": {},
     "output_type": "display_data"
    }
   ],
   "source": [
    "# convert dates to a datetime format for plotting\n",
    "dates = np.array([datetime.strptime(list(df['year'])[i] + list(df['month'])[i], '%Y%m') for i in range(len(df))])\n",
    "\n",
    "# set plot size\n",
    "plt.figure(figsize=(16, 8))\n",
    "\n",
    "# plot the points, filtering on non-zero values in the column data\n",
    "plt.plot(dates[np.array(df['pageview_desktop_views']) > 0],\n",
    "         np.array(df['pageview_desktop_views'])[np.array(df['pageview_desktop_views']) > 0], 'g')\n",
    "plt.plot(dates[np.array(df['pageview_mobile_views']) > 0],\n",
    "         np.array(df['pageview_mobile_views'])[np.array(df['pageview_mobile_views']) > 0], 'b')\n",
    "plt.plot(dates[np.array(df['pageview_all_views']) > 0],\n",
    "         np.array(df['pageview_all_views'])[np.array(df['pageview_all_views']) > 0], 'k')\n",
    "plt.plot(dates[np.array(df['pagecount_desktop_views']) > 0][:-1],\n",
    "         np.array(df['pagecount_desktop_views'])[np.array(df['pagecount_desktop_views']) > 0][:-1], 'g--')\n",
    "plt.plot(dates[np.array(df['pagecount_mobile_views']) > 0][:-1],\n",
    "         np.array(df['pagecount_mobile_views'])[np.array(df['pagecount_mobile_views']) > 0][:-1], 'b--')\n",
    "plt.plot(dates[np.array(df['pagecount_all_views']) > 0][:-1],\n",
    "         np.array(df['pagecount_all_views'])[np.array(df['pagecount_all_views']) > 0][:-1], 'k--')\n",
    "\n",
    "# add gridlines, x-axis label, scale (to match assignment), title, legend\n",
    "plt.grid(True)\n",
    "plt.xlabel('May 2015: a new pageview definition took effect, which eliminated all crawler traffic. Dashed lines mark old definition.', color='r')\n",
    "plt.ylim(0, 12e9)\n",
    "plt.yticks([0, 2e9, 4e9, 6e9, 8e9, 10e9, 12e9], [0, 2000, 4000, 6000, 8000, 10000, 12000])\n",
    "plt.title('Page Views on English Wikipedia (x 1,000,000)')\n",
    "plt.legend(['main site', 'mobile site', 'total'])\n",
    "\n",
    "# save an image of the analysis\n",
    "plt.savefig('../analysis/analysis.png')"
   ]
  },
  {
   "cell_type": "code",
   "execution_count": null,
   "metadata": {
    "collapsed": true
   },
   "outputs": [],
   "source": []
  }
 ],
 "metadata": {
  "kernelspec": {
   "display_name": "Python 3",
   "language": "python",
   "name": "python3"
  },
  "language_info": {
   "codemirror_mode": {
    "name": "ipython",
    "version": 3
   },
   "file_extension": ".py",
   "mimetype": "text/x-python",
   "name": "python",
   "nbconvert_exporter": "python",
   "pygments_lexer": "ipython3",
   "version": "3.5.2"
  }
 },
 "nbformat": 4,
 "nbformat_minor": 1
}
